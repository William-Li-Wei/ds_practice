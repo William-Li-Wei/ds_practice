{
 "cells": [
  {
   "cell_type": "markdown",
   "metadata": {},
   "source": [
    "# p-value\n",
    "\n",
    "is the probability of obtaining test results at least as extreme as the results actually observed, under the assumption that the null hypothesis is correct. A very small p-value means that such an extreme observed outcome would be very unlikely under the null hypothesis.\n",
    "\n",
    "p-value consists of 3 parts:\n",
    "\n",
    "- observed data is randomly sampled\n",
    "- propability of obtaining results as extream(rare) as observation\n",
    "- probability of obtaining results more extream(rarer) than observation\n",
    "\n",
    "\n",
    "If the null hypothesis specifies the probability distribution of the test statistic uniquely, then the p-value is given by:\n",
    "\n",
    "- <img src=\"resources/p_value_right_tail.png\" style=\"width: 300px; margin-left: 4em\"/>\n",
    "- <img src=\"resources/p_value_left_tail.png\" style=\"width: 300px; margin-left: 4em\"/>\n",
    "- <img src=\"resources/p_value_both_sided.png\" style=\"width: 450px; margin-left: 4em\"/>\n",
    "\n",
    "p-value of a 2 sided test could also be given as\n",
    "<img src=\"resources/p_value_both_sided2.png\" style=\"width: 300px; margin-left: 4em\"/>"
   ]
  },
  {
   "cell_type": "code",
   "execution_count": null,
   "metadata": {},
   "outputs": [],
   "source": []
  }
 ],
 "metadata": {
  "kernelspec": {
   "display_name": "Python 3",
   "language": "python",
   "name": "python3"
  },
  "language_info": {
   "codemirror_mode": {
    "name": "ipython",
    "version": 3
   },
   "file_extension": ".py",
   "mimetype": "text/x-python",
   "name": "python",
   "nbconvert_exporter": "python",
   "pygments_lexer": "ipython3",
   "version": "3.7.7"
  }
 },
 "nbformat": 4,
 "nbformat_minor": 4
}
