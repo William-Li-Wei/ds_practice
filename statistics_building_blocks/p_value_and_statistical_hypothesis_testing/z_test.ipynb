{
 "cells": [
  {
   "cell_type": "markdown",
   "metadata": {},
   "source": [
    "<img src=\"resources/central_limit_theorem.png\" style=\"width: 600px; margin-left: 4em\"/>\n",
    "\n",
    "---"
   ]
  },
  {
   "cell_type": "markdown",
   "metadata": {},
   "source": [
    "# Z-test\n",
    "\n",
    "A Z-test is any statistical test for which the **distribution of the test statistic T** under the null hypothesis can be approximated by a **normal distribution**\n",
    "\n",
    "it tests the mean of a distribution.\n",
    "\n",
    "Because of the central limit theorem, many test statistics are approximately normally distributed for large samples. Therefore, many statistical tests can be conveniently performed as approximate Z-tests **if the sample size is large or the population variance is known**.\n",
    "\n",
    "https://en.wikipedia.org/wiki/Z-test\n",
    "\n",
    "### Conditions\n",
    "\n",
    "- Population variance should be known, or well estimated with large sample size ( > 30 or 50)\n",
    "- Z-tests focus on a single parameter, and treat all others as their true values\n",
    "- The test statistic should follow a normal distribution. If the variation of the test statistic is strongly non-normal, a Z-test should not be used.\n",
    "\n",
    "If sample size is not large enough for these estimates to be reasonably accurate, the Z-test may not perform well.\n",
    "\n",
    "\n",
    "### One-sample z-test\n",
    "\n",
    "- (Normal population **or** n large) **and** σ known.\n",
    "- z is the distance from the mean in relation to the standard deviation of the mean\n",
    "\n",
    "<img src=\"resources/one_sample_z_test.png\" style=\"width: 300px; margin-left: 4em\"/>\n",
    "\n",
    "```\n",
    "x_bar = sample mean\n",
    "miu0 = hypothesized population mean\n",
    "σ = population standard deviation\n",
    "n = sample size\n",
    "```\n",
    "\n",
    "### One-proportion z-test\n",
    "\n",
    "- n * p0 > 10\n",
    "- n * (1 − p0) > 10\n",
    "- it is a SRS (Simple Random Sample)\n",
    "\n",
    "<img src=\"resources/one_proportion_z_test.png\" style=\"width: 300px; margin-left: 4em\"/>\n",
    "\n",
    "```\n",
    "p_hat = x/n = sample proportion, unless specified otherwise\n",
    "p0 = hypothesized population proportion\n",
    "n = sample size\n",
    "```\n"
   ]
  },
  {
   "cell_type": "markdown",
   "metadata": {},
   "source": [
    "### How to understand the formula\n",
    "\n",
    "#### one-sample z-test\n",
    "\n",
    "For a numerical random variable X follows a population distribution with **`miu`** and **`std`**, randomly choose **`n`** samples x1, x2, ..., xn and calculate a **`sample mean x_bar`**. Repeat this sampling several times, there will be a group of sample means, each could be different from x_bar. But all sample means follows one same approximated normal distribution, with mean equals to population mean **`miu`** and standard diviation equals to **`std / sqrt(n)`**, according to central limit theorem.\n",
    "\n",
    "Z is a standard score of the sample mean x_bar, in the distribution of sampling mean. It tells how far the sample mean is from the population mean.\n",
    "\n",
    "#### one-proportion z-test\n",
    "\n",
    "For a boolean randome variable X follows a bernoulli distribution with **`miu`** and **`std`** as `p` and `sqrt(p * q)`, respectively. Randomly choose **`n`** samples x1, x2, ..., xn and count the number of success. The count is equivalent to the meam of n samples **`(n * p)`**. Again, repeat this sampling several times, there will be a group of different sample means. But all sample means follows one same approximated normal distribution, with mean equals to population mean **`miu`** and standard diviation equals to **`std / sqrt(n)`**, according to central limit theorem.\n",
    "\n",
    "This time, `std / sqrt(n) = sqrt(p * q / n) `\n",
    "\n",
    "#### one-proportion z-test, another way of understanding\n",
    "\n",
    "For a large n we can accurately approximate the binomial distribution with a normal distribution with **`miu = n * p`** and **`std = sqrt(n * p * q)`**. Every point in this distribution represents a total sum of success out of n bermoulli trials. Thus, to calculate the distance of one point to the population mean, in relation to the standard diviation of the normal distribution, we can simply use the z-score.\n",
    "\n",
    "This time `z-score = (num_of_success_in_sample - n * p) / sqrt(n * p * q)`\n",
    "\n",
    "The above formula is acually equivalent to `(p - p0) / sqrt(n * p * q / n)`"
   ]
  },
  {
   "cell_type": "markdown",
   "metadata": {},
   "source": [
    "## Examples\n",
    "\n",
    "### 1. one-sample z-test\n",
    "\n",
    "### 1.1 left tailed\n",
    "In a region, the mean and std of scores of a reading tests are 100 and 12, respectively. 55 students from a school recieve a mean of 96. Are the students from this school comparable to the region as a whole, or their score is surprisingly low? Assuming the region scores follow normal distribution.\n",
    "\n",
    "- T: average score of the school (miu), which is the mean of the sampling distribution.\n",
    "- H0: miu = miu0 = 100\n",
    "- Ha: miu < miu0 = 100\n",
    "- alpha: 0.05"
   ]
  },
  {
   "cell_type": "code",
   "execution_count": 1,
   "metadata": {},
   "outputs": [
    {
     "name": "stdout",
     "output_type": "stream",
     "text": [
      "0.006716732602885773\n",
      "H0 should be rejected\n"
     ]
    }
   ],
   "source": [
    "import numpy as np\n",
    "from scipy import stats\n",
    "\n",
    "alpha = 0.05\n",
    "miu, std = 100, 12\n",
    "sample_mean, n = 96, 55\n",
    "\n",
    "se = std / np.sqrt(n)\n",
    "z_score = (sample_mean - miu) / se\n",
    "p_value = stats.norm.cdf(z_score)  # 0.006716732602885773\n",
    "\n",
    "print(p_value)\n",
    "\n",
    "if p_value < alpha:\n",
    "    print(\"H0 should be rejected\")\n",
    "else:\n",
    "    print(\"H0 should not be rejected\")"
   ]
  },
  {
   "cell_type": "markdown",
   "metadata": {},
   "source": [
    "### 1.2 right tailed\n",
    "\n",
    "testing the claim that women in a certain town are taller than the average U.S. height, which is 63.8 inches. From a random sample of 50 women, we get an average height of 64.7 inches with a standard deviation of 2.5 inches.\n",
    "\n",
    "- T: average women height in town (miu), which is the mean of the sampling distribution.\n",
    "- H0: miu = miu0 = 63.8\n",
    "- Ha: miu > miu0 = 63.8\n",
    "- alpha: 0.05\n",
    "- population std unknown, but we can estimate it by sample mean because n is relatively large."
   ]
  },
  {
   "cell_type": "code",
   "execution_count": 2,
   "metadata": {},
   "outputs": [
    {
     "name": "stdout",
     "output_type": "stream",
     "text": [
      "0.0054547491821344\n",
      "H0 should be rejected\n"
     ]
    }
   ],
   "source": [
    "import numpy as np\n",
    "from scipy import stats\n",
    "\n",
    "alpha = 0.05\n",
    "miu = 63.8\n",
    "sample_mean, sample_std, n = 64.7, 2.5, 50\n",
    "\n",
    "se = sample_std / np.sqrt(n)\n",
    "z_score = (sample_mean - miu) / se\n",
    "p_value = 1 - stats.norm.cdf(z_score)  # 0.0054547491821344\n",
    "\n",
    "print(p_value)\n",
    "\n",
    "if p_value < alpha:\n",
    "    print(\"H0 should be rejected\")\n",
    "else:\n",
    "    print(\"H0 should not be rejected\")"
   ]
  },
  {
   "cell_type": "markdown",
   "metadata": {},
   "source": [
    "### 1.3 both-tailed\n",
    "\n",
    "Suppose a pharmaceutical company manufactures ibuprofen pills. They need to perform some quality assurance to ensure they have the correct dosage, which is supposed to be 500 milligrams. In a random sample of 125 pills, there is an average dose of 499.3 milligrams with a standard deviation of 6 milligrams.\n",
    "\n",
    "- T: average weight of pills (miu), which is the mean of the sampling distribution.\n",
    "- H0: miu = miu0 = 500\n",
    "- Ha: miu != miu0 = 500\n",
    "- alpha: 0.05\n",
    "- population std unknown, but we can estimate it by sample mean because n is relatively large."
   ]
  },
  {
   "cell_type": "code",
   "execution_count": 3,
   "metadata": {},
   "outputs": [
    {
     "name": "stdout",
     "output_type": "stream",
     "text": [
      "0.1921064408679496\n",
      "H0 should not be rejected\n"
     ]
    }
   ],
   "source": [
    "import numpy as np\n",
    "from scipy import stats\n",
    "\n",
    "alpha = 0.05\n",
    "miu = 500\n",
    "sample_mean, sample_std, n = 499.3, 6, 125\n",
    "\n",
    "se = sample_std / np.sqrt(n)\n",
    "z_score = (sample_mean - miu) / se\n",
    "p_value = 2 * min(1 - stats.norm.cdf(z_score), stats.norm.cdf(z_score))  # 0.1921064408679496\n",
    "\n",
    "print(p_value)\n",
    "\n",
    "if p_value < alpha:\n",
    "    print(\"H0 should be rejected\")\n",
    "else:\n",
    "    print(\"H0 should not be rejected\")"
   ]
  },
  {
   "cell_type": "markdown",
   "metadata": {},
   "source": [
    "### 2. one-proportion z-test\n",
    "\n",
    "### 2.1 left tailed\n",
    "\n",
    "we'll look at the proportion of students who suffer from test anxiety. We want to test the claim that fewer than half of students suffer from test anxiety. In a random sample of 1000 students, 450 students claimed to have test anxiety.\n",
    "\n",
    "- T: The proportion of students sufferring from test anxiety, p, which is the mean of the sampling distribution.\n",
    "- H0: p = p0 = 0.5\n",
    "- Ha: p < p0 = 0.5\n",
    "- alpha: 0.05"
   ]
  },
  {
   "cell_type": "code",
   "execution_count": 4,
   "metadata": {},
   "outputs": [
    {
     "name": "stdout",
     "output_type": "stream",
     "text": [
      "0.0007827011290012763\n",
      "H0 should be rejected\n"
     ]
    }
   ],
   "source": [
    "import numpy as np\n",
    "from scipy import stats\n",
    "\n",
    "alpha = 0.05\n",
    "p = 0.5\n",
    "sample_p, n = 0.45, 1000\n",
    "\n",
    "se = np.sqrt(p * (1 - p) / n)\n",
    "z_score = (sample_p - p) / se\n",
    "p_value = stats.norm.cdf(z_score)  # 0.0007827011290012763\n",
    "\n",
    "print(p_value)\n",
    "\n",
    "if p_value < alpha:\n",
    "    print(\"H0 should be rejected\")\n",
    "else:\n",
    "    print(\"H0 should not be rejected\")"
   ]
  },
  {
   "cell_type": "code",
   "execution_count": 5,
   "metadata": {},
   "outputs": [
    {
     "data": {
      "text/plain": [
       "0.0008652680424885023"
      ]
     },
     "execution_count": 5,
     "metadata": {},
     "output_type": "execute_result"
    }
   ],
   "source": [
    "# verify the above result\n",
    "stats.binom.cdf(450, 1000, 0.5)"
   ]
  },
  {
   "cell_type": "markdown",
   "metadata": {},
   "source": [
    "### 2.2 right tailed\n",
    "\n",
    "An article said 26% of Americans can speak more than one language. One was curious if the figure is higher in his city, and thus randomly tested 120 people and found 40 of them can speak more than one language.\n",
    "\n",
    "- T: The proportion of people who can speak more than one language, p, which is the mean of the sampling distribution.\n",
    "- H0: p = p0 = 0.26\n",
    "- Ha: p > p0 = 0.26\n",
    "- alpha: 0.05\n"
   ]
  },
  {
   "cell_type": "code",
   "execution_count": 6,
   "metadata": {},
   "outputs": [
    {
     "name": "stdout",
     "output_type": "stream",
     "text": [
      "0.03351844776878066\n",
      "H0 should be rejected\n"
     ]
    }
   ],
   "source": [
    "import numpy as np\n",
    "from scipy import stats\n",
    "\n",
    "alpha = 0.05\n",
    "p = 0.26\n",
    "sample_p, n = 40 / 120, 120\n",
    "\n",
    "se = np.sqrt(p * (1 - p) / n)\n",
    "z_score = (sample_p - p) / se\n",
    "p_value = 1 - stats.norm.cdf(z_score)  # 0.03351844776878066\n",
    "\n",
    "print(p_value)\n",
    "\n",
    "if p_value < alpha:\n",
    "    print(\"H0 should be rejected\")\n",
    "else:\n",
    "    print(\"H0 should not be rejected\")"
   ]
  },
  {
   "cell_type": "code",
   "execution_count": 7,
   "metadata": {},
   "outputs": [
    {
     "data": {
      "text/plain": [
       "0.04464489214305367"
      ]
     },
     "execution_count": 7,
     "metadata": {},
     "output_type": "execute_result"
    }
   ],
   "source": [
    "# verify the above result\n",
    "1 - stats.binom.cdf(39, 120, 0.26)"
   ]
  },
  {
   "cell_type": "markdown",
   "metadata": {},
   "source": [
    "### 2.3 both tailed\n",
    "\n",
    "Redo the example in p-value notebook. test if a coin is fair by flipping it 20 times and getting 14 heads.\n",
    "\n",
    "- T: The probability of getting head, p, which is the mean of the sampling distribution.\n",
    "- H0: p = p0 = 0.5\n",
    "- Ha: p != p0 = 0.5\n",
    "- alpha: 0.05\n"
   ]
  },
  {
   "cell_type": "code",
   "execution_count": 8,
   "metadata": {},
   "outputs": [
    {
     "name": "stdout",
     "output_type": "stream",
     "text": [
      "0.07363827012030266\n",
      "H0 should not be rejected\n"
     ]
    }
   ],
   "source": [
    "import numpy as np\n",
    "from scipy import stats\n",
    "\n",
    "alpha = 0.05\n",
    "p = 0.5\n",
    "sample_p, n = 14 / 20, 20\n",
    "\n",
    "se = np.sqrt(p * (1 - p) / n)\n",
    "z_score = (sample_p - p) / se\n",
    "p_value = 2 * min(1 - stats.norm.cdf(z_score), stats.norm.cdf(z_score))  # 0.07363827012030266\n",
    "\n",
    "print(p_value)\n",
    "\n",
    "if p_value < alpha:\n",
    "    print(\"H0 should be rejected\")\n",
    "else:\n",
    "    print(\"H0 should not be rejected\")"
   ]
  },
  {
   "cell_type": "markdown",
   "metadata": {},
   "source": [
    "The number is not even close the the one we calculated in p-value notebook, 0.11531829833984375\n",
    "\n",
    "That's because of the small sample size n. The larger n is, the closer it is compare to a normal distribution\n",
    "\n",
    "If we scale up the sample size while keeping the same head's proportion, we will see the following. Flipping 2000 times and getting 1400 heads."
   ]
  },
  {
   "cell_type": "code",
   "execution_count": 9,
   "metadata": {},
   "outputs": [
    {
     "name": "stdout",
     "output_type": "stream",
     "text": [
      "0.0\n",
      "H0 should be rejected\n"
     ]
    }
   ],
   "source": [
    "import numpy as np\n",
    "from scipy import stats\n",
    "\n",
    "alpha = 0.05\n",
    "p = 0.5\n",
    "sample_p, n = 700 / 1000, 1000\n",
    "\n",
    "se = np.sqrt(p * (1 - p) / n)\n",
    "z_score = (sample_p - p) / se\n",
    "p_value = 2 * min(1 - stats.norm.cdf(z_score), stats.norm.cdf(z_score))  # 0.0\n",
    "\n",
    "print(p_value)\n",
    "\n",
    "if p_value < alpha:\n",
    "    print(\"H0 should be rejected\")\n",
    "else:\n",
    "    print(\"H0 should not be rejected\")"
   ]
  },
  {
   "cell_type": "code",
   "execution_count": 10,
   "metadata": {},
   "outputs": [
    {
     "data": {
      "text/plain": [
       "2.220446049250313e-16"
      ]
     },
     "execution_count": 10,
     "metadata": {},
     "output_type": "execute_result"
    }
   ],
   "source": [
    "# verify the above result\n",
    "2 * min(1 - stats.binom.cdf(700, 1000, 0.5), stats.binom.cdf(700, 1000, 0.5))"
   ]
  }
 ],
 "metadata": {
  "kernelspec": {
   "display_name": "Python 3",
   "language": "python",
   "name": "python3"
  },
  "language_info": {
   "codemirror_mode": {
    "name": "ipython",
    "version": 3
   },
   "file_extension": ".py",
   "mimetype": "text/x-python",
   "name": "python",
   "nbconvert_exporter": "python",
   "pygments_lexer": "ipython3",
   "version": "3.7.7"
  }
 },
 "nbformat": 4,
 "nbformat_minor": 4
}
