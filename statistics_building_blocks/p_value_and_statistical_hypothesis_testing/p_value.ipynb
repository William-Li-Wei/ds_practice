{
 "cells": [
  {
   "cell_type": "markdown",
   "metadata": {},
   "source": [
    "# p-value\n",
    "\n",
    "is the probability of obtaining test results at least as extreme as the results actually observed, under the assumption that the null hypothesis is correct. A very small p-value means that such an extreme observed outcome would be very unlikely under the null hypothesis.\n",
    "\n",
    "p-value consists of 3 parts:\n",
    "\n",
    "- observed data is randomly sampled\n",
    "- propability of obtaining results as extream(rare) as observation\n",
    "- probability of obtaining results more extream(rarer) than observation\n",
    "\n",
    "\n",
    "If the null hypothesis specifies the probability distribution of the test statistic uniquely, then the p-value is given by:\n",
    "\n",
    "- <img src=\"resources/p_value_right_tail.png\" style=\"width: 300px; margin-left: 4em\"/>\n",
    "- <img src=\"resources/p_value_left_tail.png\" style=\"width: 300px; margin-left: 4em\"/>\n",
    "- <img src=\"resources/p_value_both_sided.png\" style=\"width: 450px; margin-left: 4em\"/>\n",
    "\n",
    "<!-- p-value of a 2 sided test could also be given as\n",
    "<img src=\"resources/p_value_both_sided2.png\" style=\"width: 300px; margin-left: 4em\"/> -->\n",
    "\n",
    "https://en.wikipedia.org/wiki/P-value"
   ]
  },
  {
   "cell_type": "markdown",
   "metadata": {},
   "source": [
    "### Example\n",
    "\n",
    "an experiment is performed to determine whether a coin flip is fair. Suppose that the experimental results show the coin turning up heads 14 times out of 20 total flips.\n",
    "\n",
    "#### one-tailed (right-tailed) test\n",
    "\n",
    "if one is actually interested in the possibility that the coin is biased towards falling heads, then the p-value of this result is the chance of a fair coin landing on heads at least 14 times out of 20 flips.\n",
    "\n",
    "- H0: coin is fair, p(head) = 0.5\n",
    "- Ha: coin favors head, p(head) > 0.5\n",
    "- Alpha level: 0.05\n",
    "- Observation: 14 heads out of 20 flips\n",
    "\n",
    "That probability can be computed from binomial coefficients as\n",
    "\n",
    "<img src=\"resources/coin_flip_right_tail.png\" style=\"width: 400px; margin-left: 4em\"/>"
   ]
  },
  {
   "cell_type": "code",
   "execution_count": 1,
   "metadata": {},
   "outputs": [
    {
     "data": {
      "text/plain": [
       "0.057659149169921875"
      ]
     },
     "execution_count": 1,
     "metadata": {},
     "output_type": "execute_result"
    }
   ],
   "source": [
    "# verify the above result with code\n",
    "from scipy import stats\n",
    "\n",
    "p_value = 1 - stats.binom.cdf(13, 20, 0.5)\n",
    "p_value"
   ]
  },
  {
   "cell_type": "markdown",
   "metadata": {},
   "source": [
    "#### two-sided (two-tailed) test\n",
    "\n",
    "one might be interested in deviations in either direction, favoring either heads or tails. The two-tailed p-value, which considers deviations favoring either heads or tails, may instead be calculated.\n",
    "\n",
    "- H0: coin is fair, p(head) = 0.5\n",
    "- Ha: coin favors head, p(head) != 0.5\n",
    "- Alpha level: 0.05\n",
    "- Observation: 14 heads out of 20 flips\n",
    "\n",
    "`2*min(Prob(no. of heads ≥ 14 heads), Prob(no. of heads ≤ 14 heads))= 2*min(0.058, 0.978) = 2*0.058 = 0.115`\n",
    "\n",
    "*however, symmetry of the binomial distribution makes it an unnecessary computation to find the smaller of the two probabilities*"
   ]
  },
  {
   "cell_type": "code",
   "execution_count": 2,
   "metadata": {},
   "outputs": [
    {
     "data": {
      "text/plain": [
       "0.11531829833984375"
      ]
     },
     "execution_count": 2,
     "metadata": {},
     "output_type": "execute_result"
    }
   ],
   "source": [
    "# verify the above result with code\n",
    "from scipy import stats\n",
    "\n",
    "p_ge_14_heads = 1 - stats.binom.cdf(13, 20, 0.5)\n",
    "p_le_14_heads = stats.binom.cdf(14, 20, 0.5)\n",
    "\n",
    "p_value = 2 * min(p_ge_14_heads, p_le_14_heads)\n",
    "p_value"
   ]
  },
  {
   "cell_type": "code",
   "execution_count": null,
   "metadata": {},
   "outputs": [],
   "source": []
  }
 ],
 "metadata": {
  "kernelspec": {
   "display_name": "Python 3",
   "language": "python",
   "name": "python3"
  },
  "language_info": {
   "codemirror_mode": {
    "name": "ipython",
    "version": 3
   },
   "file_extension": ".py",
   "mimetype": "text/x-python",
   "name": "python",
   "nbconvert_exporter": "python",
   "pygments_lexer": "ipython3",
   "version": "3.7.7"
  }
 },
 "nbformat": 4,
 "nbformat_minor": 4
}
