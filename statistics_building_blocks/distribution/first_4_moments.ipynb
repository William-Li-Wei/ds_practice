{
 "cells": [
  {
   "cell_type": "markdown",
   "metadata": {},
   "source": [
    "# The first 4 moments of distribution\n",
    "\n",
    "## Central moment\n",
    "\n",
    "is a moment of a probability distribution of a random variable about the random variable's mean.\n",
    "\n",
    "`m(k) = E[(X - E(X))^k]`\n",
    "\n",
    "- m(0) = 1\n",
    "- m(1) = 0\n",
    "- m(2) = Variance\n",
    "- m(3), used for Skewness\n",
    "- m(4), used for Kurtosis"
   ]
  },
  {
   "cell_type": "markdown",
   "metadata": {},
   "source": [
    "### Expectation, `E(X) = mean(X)`\n",
    "\n",
    "### Variance, `Var(X) = E[(X - E(X))^2]`\n",
    "\n",
    "tells how reliable the mean is.\n",
    "\n",
    "### Skewness, `Skew(X) = m(3) / std^3`\n",
    "\n",
    "Negative(left) if more extream values less than mean, Possitive(right) if more extream values greater than mean.\n",
    "\n",
    "### Kurtosis, `Kurt(X) = m(4) / std^4 - 3`\n",
    "\n",
    "is related to the tails of the distribution. Higher Kurtosis means more extream values.\n",
    "\n",
    "`-3`here is to make sure the standard normal distribution has a 0 kurtosis.\n",
    "\n",
    "#### Mean tells where the distribution is along the axis.\n",
    "\n",
    "#### Variance, Skewness and Kurtosis tell the shape of the distribution."
   ]
  },
  {
   "cell_type": "code",
   "execution_count": 1,
   "metadata": {},
   "outputs": [],
   "source": [
    "import numpy as np\n",
    "import pandas as pd\n",
    "import seaborn as sns\n",
    "\n",
    "from scipy.stats import skew\n",
    "from scipy.stats import kurtosis"
   ]
  },
  {
   "cell_type": "code",
   "execution_count": 2,
   "metadata": {},
   "outputs": [
    {
     "data": {
      "text/plain": [
       "<matplotlib.axes._subplots.AxesSubplot at 0x7f73a8401090>"
      ]
     },
     "execution_count": 2,
     "metadata": {},
     "output_type": "execute_result"
    },
    {
     "data": {
      "image/png": "[encoded data removed]",
      "text/plain": [
       "<Figure size 432x288 with 1 Axes>"
      ]
     },
     "metadata": {
      "needs_background": "light"
     },
     "output_type": "display_data"
    }
   ],
   "source": [
    "data_normal = np.random.randn(500)\n",
    "pdf_normal = pd.DataFrame(data_normal)\n",
    "\n",
    "sns.distplot(data_normal)"
   ]
  },
  {
   "cell_type": "code",
   "execution_count": 3,
   "metadata": {},
   "outputs": [
    {
     "name": "stdout",
     "output_type": "stream",
     "text": [
      "-0.08341385174170046\n",
      "-0.164929549447137\n",
      "-0.08366505636674071\n",
      "-0.15449412310099442\n"
     ]
    }
   ],
   "source": [
    "# from scipy.stats import skew, kurtosis\n",
    "print(skew(data_normal))\n",
    "print(kurtosis(data_normal))\n",
    "\n",
    "# pandas also calculates skewness and kurtosis\n",
    "print(pdf_normal.skew()[0])\n",
    "print(pdf_normal.kurtosis()[0])"
   ]
  },
  {
   "cell_type": "code",
   "execution_count": null,
   "metadata": {},
   "outputs": [],
   "source": [
    "\n",
    "\n"
   ]
  },
  {
   "cell_type": "code",
   "execution_count": null,
   "metadata": {},
   "outputs": [],
   "source": []
  }
 ],
 "metadata": {
  "kernelspec": {
   "display_name": "Python 3",
   "language": "python",
   "name": "python3"
  },
  "language_info": {
   "codemirror_mode": {
    "name": "ipython",
    "version": 3
   },
   "file_extension": ".py",
   "mimetype": "text/x-python",
   "name": "python",
   "nbconvert_exporter": "python",
   "pygments_lexer": "ipython3",
   "version": "3.7.6"
  }
 },
 "nbformat": 4,
 "nbformat_minor": 4
}
