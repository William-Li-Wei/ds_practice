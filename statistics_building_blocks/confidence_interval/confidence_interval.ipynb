{
 "cells": [
  {
   "cell_type": "markdown",
   "metadata": {},
   "source": [
    "## Confidence Interval\n",
    "\n",
    "a confidence interval (CI) is a type of estimate computed from the statistics of the observed data.\n",
    "\n",
    "In contrast to point estimation, which gives a precise value as the estimated parameter of the population, an interval estimation specifies a range within which the parameter is estimated to lie.\n",
    "\n",
    "### Interpretation\n",
    "- A 95% confidence level does not mean that for a given realized interval there is a 95% probability that the population parameter lies within the interval\n",
    "- once an interval is calculated, this interval either covers the parameter value or it does not; it is no longer a matter of probability.\n",
    "- The 95% probability relates to the reliability of the estimation procedure, not to a specific calculated interval.\n",
    "\n",
    "Out of 100 estimation procedure(same procedure with which the confidence interval was constructed), there are 95 times that the population parameter lies within the calculated confidence interval."
   ]
  },
  {
   "cell_type": "markdown",
   "metadata": {},
   "source": [
    "### Basic steps\n",
    "\n",
    "1. Identify the sample mean, x_bar.\n",
    "2. <img src=\"resources/confidence_interval.png\" alt=\"Drawing\" style=\"width: 400px; margin-left: 4em\"/>\n",
    "\n",
    "More often, z-values are used and the sample standard deviation is used as estimated population standard deviation. These are the critical values of the normal distribution with right tail probability. However, t-values are used when the sample size is below 30 and the population standard deviation is unknown.\n",
    "\n",
    "\n",
    "|  C  |  z* |\n",
    "|-----|-----|\n",
    "|99.9%|3.291|\n",
    "|99.5%|2.807|\n",
    "| 99% |2.576|\n",
    "| 98% |2.326|\n",
    "| 95% |1.96 |\n",
    "| 90% |1.645|\n",
    "| 85% |1.440|\n",
    "| 80% |1.282|"
   ]
  },
  {
   "cell_type": "code",
   "execution_count": 1,
   "metadata": {},
   "outputs": [],
   "source": [
    "import numpy as np\n",
    "from scipy import stats"
   ]
  },
  {
   "cell_type": "markdown",
   "metadata": {},
   "source": [
    "### Example problem\n",
    "\n",
    "#### 1. What's the 95% confidence interval of apple's weight in a farm, given the weights of 30 samples. "
   ]
  },
  {
   "cell_type": "code",
   "execution_count": 2,
   "metadata": {},
   "outputs": [
    {
     "name": "stdout",
     "output_type": "stream",
     "text": [
      "95% confidence interval is (83.33472798864574, 87.00495965490191)\n",
      "(83.33472798864574, 87.00495965490191)\n"
     ]
    }
   ],
   "source": [
    "alpha = 0.05\n",
    "n = 30\n",
    "mu = 85\n",
    "sigma = 5\n",
    "samples = np.random.normal(mu, sigma, n)\n",
    "\n",
    "mean = np.mean(samples)\n",
    "s = np.std(samples, ddof=1)\n",
    "# use z-values and estimate the population std by sample std\n",
    "z_value = stats.norm.ppf(1 - alpha/2)\n",
    "\n",
    "upper = mean + z_value * s / np.sqrt(n)\n",
    "lower = mean - z_value * s / np.sqrt(n)\n",
    "\n",
    "print(f\"95% confidence interval is ({lower}, {upper})\")\n",
    "\n",
    "from confidence_interval import get_confidence_interval\n",
    "print(get_confidence_interval(samples, 0.95))"
   ]
  },
  {
   "cell_type": "markdown",
   "metadata": {},
   "source": [
    "#### 2. What's the 90% confidence interval of teen's height in a city, given the weights of 20 samples. "
   ]
  },
  {
   "cell_type": "code",
   "execution_count": 4,
   "metadata": {},
   "outputs": [
    {
     "name": "stdout",
     "output_type": "stream",
     "text": [
      "90% confidence interval is (166.05875693960917, 174.59424510363988)\n",
      "(167.0494802116305, inf)\n"
     ]
    }
   ],
   "source": [
    "alpha = 0.1\n",
    "n = 20\n",
    "mu = 170\n",
    "sigma = 12\n",
    "samples = np.random.normal(mu, sigma, n)\n",
    "\n",
    "mean = np.mean(samples)\n",
    "s = np.std(samples, ddof=1)\n",
    "# use t-values, because number of samples are small, estimate population std by sample std\n",
    "t_value = stats.t.ppf(1 - alpha/2, n-1)\n",
    "\n",
    "upper = mean + t_value * s / np.sqrt(n)\n",
    "lower = mean - t_value * s / np.sqrt(n)\n",
    "\n",
    "print(f\"90% confidence interval is ({lower}, {upper})\")\n",
    "print(get_confidence_interval(samples, 0.90, \"t\", \"right\"))"
   ]
  },
  {
   "cell_type": "markdown",
   "metadata": {},
   "source": [
    "#### for one tail z-values or t-values\n",
    "\n",
    "simply use `1 - alpha` or `alpha` instead of `1 - alpha/2` accordingly"
   ]
  },
  {
   "cell_type": "code",
   "execution_count": null,
   "metadata": {},
   "outputs": [],
   "source": []
  }
 ],
 "metadata": {
  "kernelspec": {
   "display_name": "Python 3",
   "language": "python",
   "name": "python3"
  },
  "language_info": {
   "codemirror_mode": {
    "name": "ipython",
    "version": 3
   },
   "file_extension": ".py",
   "mimetype": "text/x-python",
   "name": "python",
   "nbconvert_exporter": "python",
   "pygments_lexer": "ipython3",
   "version": "3.7.7"
  }
 },
 "nbformat": 4,
 "nbformat_minor": 4
}
