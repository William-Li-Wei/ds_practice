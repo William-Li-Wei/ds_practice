{
 "cells": [
  {
   "attachments": {},
   "cell_type": "markdown",
   "metadata": {},
   "source": [
    "# Probability axioms\n",
    "\n",
    "1. 1 >= P(E) >= 0, The probability of an event is a non-negative real number\n",
    "2. P(Omega) = 1, the probability that at least one of the elementary events in the entire sample space will occur is 1\n",
    "3. Any countable sequence of disjoint sets (synonymous with mutually exclusive events) E1, E2,... satisfies\n",
    "<img src=\"resources/probability_axioms.png\" alt=\"Drawing\" style=\"margin-left: 4em\"/>\n",
    "\n",
    "https://en.wikipedia.org/wiki/Probability_axioms"
   ]
  },
  {
   "attachments": {},
   "cell_type": "markdown",
   "metadata": {},
   "source": [
    "### P(A or B) = P(A) + P(B) - P(A and B)\n",
    "\n",
    "The probability that A or B will happen is the sum of the probabilities that A will happen and that B will happen, minus the probability that both A and B will happen\n",
    "<img src=\"resources/p(AorB).png\" alt=\"Drawing\" style=\"margin-left: 4em\"/>"
   ]
  },
  {
   "attachments": {},
   "cell_type": "markdown",
   "metadata": {},
   "source": [
    "### P(A and B) = P(A)xP(B)  <=> A and B are independent\n",
    "\n",
    "Two events **A** and **B** are **independent** if and only if their joint probability equals the product of their probabilities: \n",
    "\n",
    "<img src=\"resources/p(AandB).png\" alt=\"Drawing\" style=\"margin-left: 4em\"/>\n",
    "\n",
    "- A and B are independent <=> P(A|B) = P(A)"
   ]
  },
  {
   "cell_type": "markdown",
   "metadata": {},
   "source": [
    "---"
   ]
  },
  {
   "cell_type": "markdown",
   "metadata": {},
   "source": [
    "# Bayes' theorem\n",
    "\n",
    "describes the probability of an event, based on prior knowledge of conditions that might be related to the event.\n",
    "\n",
    "### P(A|B) = P(B|A) * P(A) / P(B)\n",
    "\n",
    "- **P(A|B)** is a conditional probability: the likelihood of event **A** occurring given that **B** is true.\n",
    "- **P(B|A)** is a conditional probability: the likelihood of event **B** occurring given that **A** is true.\n",
    "- **P(A) and P(B)** are the probabilities of observing **A** and **B** respectively; they are known as the marginal probability."
   ]
  },
  {
   "attachments": {},
   "cell_type": "markdown",
   "metadata": {},
   "source": [
    "### Example: Drug testing\n",
    "\n",
    "Suppose that a test for using a particular drug is 99% sensitive and 99% specific. That is, the test will produce 99% true positive results for drug users and 99% true negative results for non-drug users. Suppose that 0.5% of people are users of the drug. What is the probability that a randomly selected individual with a positive test is a drug user?\n",
    "\n",
    "P(D|+) = P(+|D) * P(D) / P(+)\n",
    "\n",
    "P(D|+) = P(+|D) * P(D) / [ P(+|D) * P(D) + P(+|N) * P(N) ]\n",
    "\n",
    "P(D|+) = 0.99 * 0.005 / (0.99 * 0.005 + 0.01 * 0.995) = 33.2%\n",
    "\n",
    "\n",
    "https://en.wikipedia.org/wiki/Bayes%27_theorem\n",
    "\n",
    "<img src=\"resources/p_drug_testing.png\" alt=\"Drawing\" style=\"margin-left: 4em\"/>"
   ]
  },
  {
   "cell_type": "markdown",
   "metadata": {},
   "source": [
    "---"
   ]
  },
  {
   "cell_type": "code",
   "execution_count": 1,
   "metadata": {},
   "outputs": [
    {
     "name": "stdout",
     "output_type": "stream",
     "text": [
      "========== Running simulation ==========\n",
      "population: 1000, sensitivity: 0.99, specificity: 0.99\n",
      "Number of drug users: 8\n",
      "Number of possitive tests: 20\n",
      "Probability of being a real drug user with a positive test: 0.4\n",
      "========== Running simulation ==========\n",
      "population: 10000, sensitivity: 0.99, specificity: 0.99\n",
      "Number of drug users: 46\n",
      "Number of possitive tests: 147\n",
      "Probability of being a real drug user with a positive test: 0.3129251700680272\n",
      "========== Running simulation ==========\n",
      "population: 10000, sensitivity: 1, specificity: 0.99\n",
      "Number of drug users: 51\n",
      "Number of possitive tests: 161\n",
      "Probability of being a real drug user with a positive test: 0.3167701863354037\n",
      "========== Running simulation ==========\n",
      "population: 10000, sensitivity: 0.99, specificity: 0.995\n",
      "Number of drug users: 56\n",
      "Number of possitive tests: 104\n",
      "Probability of being a real drug user with a positive test: 0.5384615384615384\n"
     ]
    }
   ],
   "source": [
    "import drug_testing_simulation as simulation\n",
    "\n",
    "settings = [\n",
    "    {\"population_size\": 1000, \"sensitivity\": 0.99, \"specificity\": 0.99},\n",
    "    {\"population_size\": 10000, \"sensitivity\": 0.99, \"specificity\": 0.99},\n",
    "    {\"population_size\": 10000, \"sensitivity\": 1, \"specificity\": 0.99},\n",
    "    {\"population_size\": 10000, \"sensitivity\": 0.99, \"specificity\": 0.995}\n",
    "]\n",
    "\n",
    "for setting in settings:\n",
    "    simulation.run_simulation(**setting)"
   ]
  },
  {
   "cell_type": "markdown",
   "metadata": {},
   "source": [
    "### Example: Monty hall problem\n",
    "\n",
    "Behind 1 of 3 doors, there is a car. Behind each of the other 2 doors, there is a goat. After choosing your door, the host would open a door and show your the goat behind it. Will the probability of winning a car be higher if you change your choice?\n",
    "\n",
    "#### Case 1: Stick to your choice.\n",
    "\n",
    "The event of winning only depends on choosing the car door at first.\n",
    "\n",
    "P(winning) = P(choose a car from N doors) = 1/N\n",
    "\n",
    "When N = 3, P(winning) = 1/3 = 0.333\n",
    "\n",
    "When N = 5, P(winning) = 1/5 = 0.2\n",
    "\n",
    "#### Case 2: make a new choice.\n",
    "\n",
    "The event of winning consists of 2 sequencial events:\n",
    "\n",
    "1. **Event A**: Choose a goat door at first\n",
    "2. **Event B**: Make a new decision and choose the car door\n",
    "\n",
    "P(A) = (N-1) / N\n",
    "\n",
    "P(B|A) = 1 / (N-2)\n",
    "\n",
    "P(winnin) = P(B|A) * P(A) = (1/N) * (N-1) / (N-2)\n",
    "\n",
    "When N = 3, P(winnning) = 2/3 = 0.667\n",
    "\n",
    "When N = 5, P(winning) = 4/15 = 0.267"
   ]
  },
  {
   "cell_type": "code",
   "execution_count": 2,
   "metadata": {},
   "outputs": [
    {
     "name": "stdout",
     "output_type": "stream",
     "text": [
      "Simulate 10000 plays without making new decisions when showed a goat door.\n",
      "The probability of winning a car is 0.3293.\n",
      "Simulate 10000 plays without making new decisions when showed a goat door.\n",
      "The probability of winning a car is 0.1991.\n",
      "Simulate 10000 plays with making new decisions when showed a goat door.\n",
      "The probability of winning a car is 0.6708.\n",
      "Simulate 10000 plays with making new decisions when showed a goat door.\n",
      "The probability of winning a car is 0.2667.\n"
     ]
    }
   ],
   "source": [
    "import monty_hall_simulation as simulation\n",
    "\n",
    "settings = [\n",
    "    {\"n_plays\": 10000, \"n_doors\": 3, \"make_new_choice\": False},\n",
    "    {\"n_plays\": 10000, \"n_doors\": 5, \"make_new_choice\": False},\n",
    "    {\"n_plays\": 10000, \"n_doors\": 3, \"make_new_choice\": True},\n",
    "    {\"n_plays\": 10000, \"n_doors\": 5, \"make_new_choice\": True}\n",
    "]\n",
    "\n",
    "for setting in settings:\n",
    "    simulation.run_simulation(**setting)"
   ]
  },
  {
   "cell_type": "code",
   "execution_count": null,
   "metadata": {},
   "outputs": [],
   "source": []
  }
 ],
 "metadata": {
  "kernelspec": {
   "display_name": "Python 3",
   "language": "python",
   "name": "python3"
  },
  "language_info": {
   "codemirror_mode": {
    "name": "ipython",
    "version": 3
   },
   "file_extension": ".py",
   "mimetype": "text/x-python",
   "name": "python",
   "nbconvert_exporter": "python",
   "pygments_lexer": "ipython3",
   "version": "3.7.7"
  }
 },
 "nbformat": 4,
 "nbformat_minor": 4
}
